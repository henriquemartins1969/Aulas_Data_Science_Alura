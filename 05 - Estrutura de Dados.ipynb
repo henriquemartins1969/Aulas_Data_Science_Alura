{
  "nbformat": 4,
  "nbformat_minor": 0,
  "metadata": {
    "colab": {
      "provenance": [],
      "authorship_tag": "ABX9TyNlhDPUcieQFxYsWtnPBHtO",
      "include_colab_link": true
    },
    "kernelspec": {
      "name": "python3",
      "display_name": "Python 3"
    },
    "language_info": {
      "name": "python"
    }
  },
  "cells": [
    {
      "cell_type": "markdown",
      "metadata": {
        "id": "view-in-github",
        "colab_type": "text"
      },
      "source": [
        "<a href=\"https://colab.research.google.com/github/henriquemartins1969/Aulas_Data_Science_Alura/blob/main/05%20-%20Estrutura%20de%20Dados.ipynb\" target=\"_parent\"><img src=\"https://colab.research.google.com/assets/colab-badge.svg\" alt=\"Open In Colab\"/></a>"
      ]
    },
    {
      "cell_type": "markdown",
      "source": [
        "### 1) Faça um programa que tenha a seguinte lista contendo os valores de gastos de uma empresa de papel [2172.54, 3701.35, 3518.09, 3456.61, 3249.38, 2840.82, 3891.45, 3075.26, 2317.64, 3219.08]. Com esses valores, faça um programa que calcule a média de gastos. Dica: use as funções built-in sum() e len().\n"
      ],
      "metadata": {
        "id": "KCtbK6_SjtSn"
      }
    },
    {
      "cell_type": "code",
      "source": [
        "gastos = [2172.54, 3701.35, 3518.09, 3456.61, 3249.38, 2840.82, 3891.45, 3075.26, 2317.64, 3219.08]\n",
        "\n",
        "media_gastos = sum(gastos) / len(gastos)\n",
        "\n",
        "print(f\"A média de gastos da empresa é: R${media_gastos:.2f}\")"
      ],
      "metadata": {
        "colab": {
          "base_uri": "https://localhost:8080/"
        },
        "id": "FkdVxKCPjXXS",
        "outputId": "002b4762-140b-4f5c-987b-7aacfdb3ac47"
      },
      "execution_count": 3,
      "outputs": [
        {
          "output_type": "stream",
          "name": "stdout",
          "text": [
            "A média de gastos da empresa é: R$3144.22\n"
          ]
        }
      ]
    },
    {
      "cell_type": "markdown",
      "source": [
        "###2) Com os mesmos dados da questão anterior, defina quantas compras foram realizadas acima de 3000 reais e calcule a porcentagem quanto ao total de compras."
      ],
      "metadata": {
        "id": "JNcsASadj_QZ"
      }
    },
    {
      "cell_type": "code",
      "source": [
        "# prompt: create a dataframe with 2 columns and 10 rows\n",
        "\n",
        "import pandas as pd\n",
        "\n",
        "data = {'Column1': [1, 2, 3, 4, 5, 6, 7, 8, 9, 10],\n",
        "        'Column2': ['A', 'B', 'C', 'D', 'E', 'F', 'G', 'H', 'I', 'J']}\n",
        "\n",
        "df = pd.DataFrame(data)\n",
        "df"
      ],
      "metadata": {
        "colab": {
          "base_uri": "https://localhost:8080/"
        },
        "id": "KRyjefh-jcve",
        "outputId": "6b1b033c-6255-4afc-c165-96b2991be6bf"
      },
      "execution_count": 4,
      "outputs": [
        {
          "output_type": "stream",
          "name": "stdout",
          "text": [
            "Número de compras acima de R$3000: 7\n",
            "Porcentagem de compras acima de R$3000: 70.00%\n"
          ]
        }
      ]
    },
    {
      "cell_type": "markdown",
      "source": [
        "###3) Faça um código que colete em uma lista 5 números inteiros quaisquer e imprima a lista. Exemplo: [1,4,7,2,4]."
      ],
      "metadata": {
        "id": "iMuzIu5bkgfl"
      }
    },
    {
      "cell_type": "code",
      "source": [
        "lista_numeros = []\n",
        "for i in range(5):\n",
        "  numero = int(input(f\"Digite o {i+1}º número inteiro: \"))\n",
        "  lista_numeros.append(numero)\n",
        "\n",
        "print(\"Lista de números:\", lista_numeros)"
      ],
      "metadata": {
        "colab": {
          "base_uri": "https://localhost:8080/"
        },
        "id": "zNQWCBVekmnW",
        "outputId": "c712400e-f861-49ce-fa48-e8a4d064a9fa"
      },
      "execution_count": 6,
      "outputs": [
        {
          "output_type": "stream",
          "name": "stdout",
          "text": [
            "Digite o 1º número inteiro: 1\n",
            "Digite o 2º número inteiro: 4\n",
            "Digite o 3º número inteiro: 7\n",
            "Digite o 4º número inteiro: 2\n",
            "Digite o 5º número inteiro: 4\n",
            "Lista de números: [1, 4, 7, 2, 4]\n"
          ]
        }
      ]
    },
    {
      "cell_type": "markdown",
      "source": [
        "###4) Colete novamente 5 inteiros e imprima a lista em ordem inversa à enviada."
      ],
      "metadata": {
        "id": "M94DgA77k9VZ"
      }
    },
    {
      "cell_type": "code",
      "source": [
        "lista_numeros_inversa = []\n",
        "for i in range(5):\n",
        "  numero = int(input(f\"Digite o {i+1}º número inteiro: \"))\n",
        "  lista_numeros_inversa.insert(0, numero)\n",
        "\n",
        "print(\"Lista de números em ordem inversa:\", lista_numeros_inversa)"
      ],
      "metadata": {
        "colab": {
          "base_uri": "https://localhost:8080/"
        },
        "id": "-vsu7b5tk-s2",
        "outputId": "eb724eed-3e21-4229-ab78-e734b370985c"
      },
      "execution_count": 7,
      "outputs": [
        {
          "output_type": "stream",
          "name": "stdout",
          "text": [
            "Digite o 1º número inteiro: 1\n",
            "Digite o 2º número inteiro: 4\n",
            "Digite o 3º número inteiro: 7\n",
            "Digite o 4º número inteiro: 2\n",
            "Digite o 5º número inteiro: 4\n",
            "Lista de números em ordem inversa: [4, 2, 7, 4, 1]\n"
          ]
        }
      ]
    },
    {
      "cell_type": "markdown",
      "source": [
        "###5) Faça um programa que, ao inserir um número qualquer, cria uma lista contendo todos os números primos entre 1 e o número digitado."
      ],
      "metadata": {
        "id": "l3D9v5yhlMUk"
      }
    },
    {
      "cell_type": "code",
      "source": [
        "def is_prime(n):\n",
        "  \"\"\"Verifica se um número é primo.\"\"\"\n",
        "  if n <= 1:\n",
        "    return False\n",
        "  for i in range(2, int(n**0.5) + 1):\n",
        "    if n % i == 0:\n",
        "      return False\n",
        "  return True\n",
        "\n",
        "def lista_primos(limite):\n",
        "  \"\"\"Cria uma lista de números primos até um limite.\"\"\"\n",
        "  lista_primos = []\n",
        "  for i in range(2, limite + 1):\n",
        "    if is_prime(i):\n",
        "      lista_primos.append(i)\n",
        "  return lista_primos\n",
        "\n",
        "numero = int(input(\"Digite um número: \"))\n",
        "primos = lista_primos(numero)\n",
        "\n",
        "print(f\"Números primos entre 1 e {numero}: {primos}\")"
      ],
      "metadata": {
        "colab": {
          "base_uri": "https://localhost:8080/"
        },
        "id": "ibpVg2kglNn8",
        "outputId": "c47e555d-78c0-4a40-8de2-fedf804be90f"
      },
      "execution_count": 9,
      "outputs": [
        {
          "output_type": "stream",
          "name": "stdout",
          "text": [
            "Digite um número: 100\n",
            "Números primos entre 1 e 100: [2, 3, 5, 7, 11, 13, 17, 19, 23, 29, 31, 37, 41, 43, 47, 53, 59, 61, 67, 71, 73, 79, 83, 89, 97]\n"
          ]
        }
      ]
    },
    {
      "cell_type": "markdown",
      "source": [
        "###6) Escreva um programa que peça uma data informando o dia, mês e ano e determine se ela é válida para uma análise."
      ],
      "metadata": {
        "id": "hKXx9-XUlgZf"
      }
    },
    {
      "cell_type": "code",
      "source": [
        "import pandas as pd  # Importa a biblioteca pandas\n",
        "\n",
        "def validar_data(dia, mes, ano):\n",
        "  \"\"\"\n",
        "  Valida se uma data é válida.\n",
        "\n",
        "  Args:\n",
        "    dia: O dia da data.\n",
        "    mes: O mês da data.\n",
        "    ano: O ano da data.\n",
        "\n",
        "  Returns:\n",
        "    True se a data for válida, False caso contrário.\n",
        "  \"\"\"\n",
        "  try:\n",
        "    # Tenta criar um objeto datetime com a data fornecida\n",
        "    pd.to_datetime(f\"{ano}-{mes}-{dia}\")\n",
        "    return True\n",
        "  except ValueError:\n",
        "    return False\n",
        "\n",
        "\n",
        "dia = int(input(\"Digite o dia: \"))\n",
        "mes = int(input(\"Digite o mês: \"))\n",
        "ano = int(input(\"Digite o ano: \"))\n",
        "\n",
        "if validar_data(dia, mes, ano):\n",
        "  print(\"A data é válida.\")\n",
        "else:\n",
        "  print(\"A data é inválida.\")"
      ],
      "metadata": {
        "colab": {
          "base_uri": "https://localhost:8080/"
        },
        "id": "86GC_iFHlhhN",
        "outputId": "a8550259-04ff-4856-c035-c4048bfb5e57"
      },
      "execution_count": 13,
      "outputs": [
        {
          "output_type": "stream",
          "name": "stdout",
          "text": [
            "Digite o dia: 25\n",
            "Digite o mês: 02\n",
            "Digite o ano: 1969\n",
            "A data é válida.\n"
          ]
        }
      ]
    },
    {
      "cell_type": "markdown",
      "source": [
        "###7) Para um estudo envolvendo o nível de multiplicação de bactérias em uma colônia, foi coletado o número de bactérias por dia (em milhares) e pode ser observado a seguir: [1.2, 2.1, 3.3, 5.0, 7.8, 11.3, 16.6, 25.1, 37.8, 56.9]. Tendo esses valores, faça um código que gere uma lista contendo o percentual de crescimento de bactérias por dia, comparando o número de bactérias em cada dia com o número de bactérias do dia anterior. Dica: para calcular o percentual de crescimento usamos a seguinte equação: 100 * (amostra_atual - amostra_passada) / (amostra_passada)."
      ],
      "metadata": {
        "id": "F4KJOKkRvzep"
      }
    },
    {
      "cell_type": "code",
      "source": [
        "numero_bacterias = [1.2, 2.1, 3.3, 5.0, 7.8, 11.3, 16.6, 25.1, 37.8, 56.9]\n",
        "percentual_crescimento = []\n",
        "\n",
        "for i in range(1, len(numero_bacterias)):\n",
        "  amostra_atual = numero_bacterias[i]\n",
        "  amostra_passada = numero_bacterias[i-1]\n",
        "  crescimento = 100 * (amostra_atual - amostra_passada) / amostra_passada\n",
        "  percentual_crescimento.append(crescimento)\n",
        "\n",
        "print(\"Percentual de crescimento de bactérias por dia:\", percentual_crescimento)"
      ],
      "metadata": {
        "colab": {
          "base_uri": "https://localhost:8080/"
        },
        "id": "JEk8urgEv1WQ",
        "outputId": "73a2d3d0-6ba5-477f-d2da-91563f1e94b9"
      },
      "execution_count": 15,
      "outputs": [
        {
          "output_type": "stream",
          "name": "stdout",
          "text": [
            "Percentual de crescimento de bactérias por dia: [75.00000000000001, 57.142857142857125, 51.51515151515153, 56.0, 44.87179487179489, 46.90265486725664, 51.20481927710843, 50.59760956175297, 50.52910052910054]\n"
          ]
        }
      ]
    },
    {
      "cell_type": "markdown",
      "source": [
        "###8) Para uma seleção de produtos alimentícios, precisamos separar o conjunto de IDs dados por números inteiros sabendo que os produtos com ID par são doces e os com ID ímpar são amargos. Monte um código que colete 10 IDs. Depois, calcule e mostre a quantidade de produtos doces e amargos."
      ],
      "metadata": {
        "id": "Qqp7M0ElwLsQ"
      }
    },
    {
      "cell_type": "code",
      "source": [
        "lista_ids = []\n",
        "for i in range(10):\n",
        "  id_produto = int(input(f\"Digite o ID do produto {i+1}: \"))\n",
        "  lista_ids.append(id_produto)\n",
        "\n",
        "produtos_doces = 0\n",
        "produtos_amargos = 0\n",
        "\n",
        "for id_produto in lista_ids:\n",
        "  if id_produto % 2 == 0:\n",
        "    produtos_doces += 1\n",
        "  else:\n",
        "    produtos_amargos += 1\n",
        "\n",
        "print(f\"Quantidade de produtos doces: {produtos_doces}\")\n",
        "print(f\"Quantidade de produtos amargos: {produtos_amargos}\")"
      ],
      "metadata": {
        "colab": {
          "base_uri": "https://localhost:8080/"
        },
        "id": "UVE20v34wjNb",
        "outputId": "8ca2534a-2d87-4bd0-bf62-698f054003e0"
      },
      "execution_count": 19,
      "outputs": [
        {
          "output_type": "stream",
          "name": "stdout",
          "text": [
            "Digite o ID do produto 1: 11\n",
            "Digite o ID do produto 2: 12\n",
            "Digite o ID do produto 3: 13\n",
            "Digite o ID do produto 4: 55\n",
            "Digite o ID do produto 5: 57\n",
            "Digite o ID do produto 6: 58\n",
            "Digite o ID do produto 7: 731\n",
            "Digite o ID do produto 8: 528\n",
            "Digite o ID do produto 9: 529\n",
            "Digite o ID do produto 10: 400\n",
            "Quantidade de produtos doces: 4\n",
            "Quantidade de produtos amargos: 6\n"
          ]
        }
      ]
    },
    {
      "cell_type": "markdown",
      "source": [
        "###9) Desenvolva um programa que informa a nota de um(a) aluno(a) de acordo com suas respostas. Ele deve pedir a resposta desse(a) aluno(a) para cada questão e é preciso verificar se a resposta foi igual ao gabarito. Cada questão vale um ponto e existem as alternativas A, B, C ou D."
      ],
      "metadata": {
        "id": "eFqDwy6Gw-A0"
      }
    },
    {
      "cell_type": "code",
      "source": [
        "gabarito = ['D', 'A', 'C', 'B', 'A', 'D', 'C', 'C', 'A', 'B']  # Exemplo de gabarito\n",
        "nota = 0\n",
        "\n",
        "for i in range(len(gabarito)):\n",
        "  resposta_aluno = input(f\"Digite a resposta da questão {i+1} (A, B, C ou D): \").upper()\n",
        "  if resposta_aluno == gabarito[i]:\n",
        "    nota += 1\n",
        "\n",
        "print(f\"A nota do aluno é: {nota}\")"
      ],
      "metadata": {
        "colab": {
          "base_uri": "https://localhost:8080/"
        },
        "id": "abNWve8SxLPd",
        "outputId": "27b19413-354a-471e-9d97-a42c84888265"
      },
      "execution_count": 20,
      "outputs": [
        {
          "output_type": "stream",
          "name": "stdout",
          "text": [
            "Digite a resposta da questão 1 (A, B, C ou D): D\n",
            "Digite a resposta da questão 2 (A, B, C ou D): A\n",
            "Digite a resposta da questão 3 (A, B, C ou D): C\n",
            "Digite a resposta da questão 4 (A, B, C ou D): C\n",
            "Digite a resposta da questão 5 (A, B, C ou D): C\n",
            "Digite a resposta da questão 6 (A, B, C ou D): C\n",
            "Digite a resposta da questão 7 (A, B, C ou D): C\n",
            "Digite a resposta da questão 8 (A, B, C ou D): C\n",
            "Digite a resposta da questão 9 (A, B, C ou D): A\n",
            "Digite a resposta da questão 10 (A, B, C ou D): B\n",
            "A nota do aluno é: 7\n"
          ]
        }
      ]
    },
    {
      "cell_type": "markdown",
      "source": [
        "###10) Um instituto de meteorologia deseja fazer um estudo de temperatura média de cada mês do ano. Para isso, você precisa fazer um código que colete e armazene essas temperaturas médias em uma lista. Depois, calcule a média anual das temperaturas e mostre todas as temperaturas acima da média anual e em que mês elas ocorreram, mostrando os meses por extenso (Janeiro, Fevereiro, etc.)."
      ],
      "metadata": {
        "id": "asUrPF3tyvz-"
      }
    },
    {
      "cell_type": "code",
      "source": [
        "temperaturas_mensais = []\n",
        "meses = [\"Janeiro\", \"Fevereiro\", \"Março\", \"Abril\", \"Maio\", \"Junho\", \"Julho\", \"Agosto\", \"Setembro\", \"Outubro\", \"Novembro\", \"Dezembro\"]\n",
        "\n",
        "for mes in meses:\n",
        "  temperatura = float(input(f\"Digite a temperatura média de {mes}: \"))\n",
        "  temperaturas_mensais.append(temperatura)\n",
        "\n",
        "media_anual = sum(temperaturas_mensais) / len(temperaturas_mensais)\n",
        "\n",
        "print(\"\\nTemperaturas acima da média anual:\")\n",
        "for i in range(len(temperaturas_mensais)):\n",
        "  if temperaturas_mensais[i] > media_anual:\n",
        "    print(f\"- {meses[i]}: {temperaturas_mensais[i]:.2f}°C\")"
      ],
      "metadata": {
        "colab": {
          "base_uri": "https://localhost:8080/"
        },
        "id": "AyPpwvM2yzWD",
        "outputId": "8d167322-d0f7-4567-bd78-d9f70fe4acb8"
      },
      "execution_count": 21,
      "outputs": [
        {
          "output_type": "stream",
          "name": "stdout",
          "text": [
            "Digite a temperatura média de Janeiro: 55\n",
            "Digite a temperatura média de Fevereiro: 60\n",
            "Digite a temperatura média de Março: 21\n",
            "Digite a temperatura média de Abril: 18\n",
            "Digite a temperatura média de Maio: 46\n",
            "Digite a temperatura média de Junho: 12\n",
            "Digite a temperatura média de Julho: 5\n",
            "Digite a temperatura média de Agosto: -7\n",
            "Digite a temperatura média de Setembro: 10\n",
            "Digite a temperatura média de Outubro: 19\n",
            "Digite a temperatura média de Novembro: 21\n",
            "Digite a temperatura média de Dezembro: 77\n",
            "\n",
            "Temperaturas acima da média anual:\n",
            "- Janeiro: 55.00°C\n",
            "- Fevereiro: 60.00°C\n",
            "- Maio: 46.00°C\n",
            "- Dezembro: 77.00°C\n"
          ]
        }
      ]
    },
    {
      "cell_type": "markdown",
      "source": [
        "###11) Uma empresa de e-commerce está interessada em analisar as vendas dos seus produtos. Os dados das vendas foram armazenados em um dicionário:"
      ],
      "metadata": {
        "id": "KuPiY-oPznIQ"
      }
    },
    {
      "cell_type": "code",
      "source": [
        "# prompt: 11) Uma empresa de e-commerce está interessada em analisar as vendas dos seus produtos. Os dados das vendas foram armazenados em um dicionário:\n",
        "# {'Produto A': 300, 'Produto B': 80, 'Produto C': 60,\n",
        "#  'Produto D': 200, 'Produto E': 250, 'Produto F': 30}\n",
        "\n",
        "vendas_produtos = {'Produto A': 300, 'Produto B': 80, 'Produto C': 60,\n",
        "                  'Produto D': 200, 'Produto E': 250, 'Produto F': 30}\n",
        "\n",
        "# Calcular o total de vendas\n",
        "total_vendas = sum(vendas_produtos.values())\n",
        "\n",
        "# Encontrar o produto mais vendido\n",
        "produto_mais_vendido = max(vendas_produtos, key=vendas_produtos.get)\n",
        "\n",
        "# Encontrar o produto menos vendido\n",
        "produto_menos_vendido = min(vendas_produtos, key=vendas_produtos.get)\n",
        "\n",
        "# Calcular a média de vendas\n",
        "media_vendas = total_vendas / len(vendas_produtos)\n",
        "\n",
        "# Imprimir os resultados\n",
        "print(f\"Total de vendas: {total_vendas}\")\n",
        "print(f\"Produto mais vendido: {produto_mais_vendido} com {vendas_produtos[produto_mais_vendido]} unidades vendidas.\")\n",
        "print(f\"Produto menos vendido: {produto_menos_vendido} com {vendas_produtos[produto_menos_vendido]} unidades vendidas.\")\n",
        "print(f\"Média de vendas por produto: {media_vendas:.2f}\")"
      ],
      "metadata": {
        "colab": {
          "base_uri": "https://localhost:8080/"
        },
        "id": "5n3yQqlP0TnB",
        "outputId": "cdd3c4ac-1253-4e5d-ed4c-729abf3ba43f"
      },
      "execution_count": 24,
      "outputs": [
        {
          "output_type": "stream",
          "name": "stdout",
          "text": [
            "Total de vendas: 920\n",
            "Produto mais vendido: Produto A com 300 unidades vendidas.\n",
            "Produto menos vendido: Produto F com 30 unidades vendidas.\n",
            "Média de vendas por produto: 153.33\n"
          ]
        }
      ]
    }
  ]
}